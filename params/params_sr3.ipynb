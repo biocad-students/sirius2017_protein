{
 "cells": [
  {
   "cell_type": "code",
   "execution_count": 8,
   "metadata": {
    "scrolled": true
   },
   "outputs": [
    {
     "name": "stdout",
     "output_type": "stream",
     "text": [
      "[[[110, 178, -115], [102, 175, -80]], [[108, -178, -91], [133, 178, -128]], [[132, 178, -130], [111, -167, -101]], [[107, -179, -88], [117, 178, -117]], [[122, 176, -81], [117, 173, -86]], [[111, 178, -90], [107, -180, -90]], [[106, 179, -88], [102, 175, -80]]]\n"
     ]
    }
   ],
   "source": [
    "#Случайные углы\n",
    "from os import listdir\n",
    "from Bio.SeqUtils import *\n",
    "from Bio.PDB import *\n",
    "from math import *\n",
    "import numpy as np\n",
    "import random\n",
    "kolvo = []\n",
    "def varrand(mas, b):\n",
    "    def rand(am1, am2, j):\n",
    "        Pam = (am1 + ' ' + am2)\n",
    "        f = open('text.txt')\n",
    "        q = 0\n",
    "        arr = []\n",
    "        for line in f:\n",
    "            string = line\n",
    "            if line.find(Pam) != -1:\n",
    "                arr.append(string)\n",
    "                q += 1\n",
    "        p = 1\n",
    "        while p <= int(j):\n",
    "            r = random.randint(0, q - 1)\n",
    "            g = arr[r].split()\n",
    "            an = []\n",
    "            an.append(int (g[2]))\n",
    "            an.append(int (g[4]))\n",
    "            an.append(int (g[3]))\n",
    "            kolvo.append(an)\n",
    "            p += 1\n",
    "        f.close()\n",
    "    z = 1\n",
    "    x = 0\n",
    "    itog = [[[1, 2, 3]] * (len(mas) - 1) for o in range(int(b))]\n",
    "    while z < len(mas):\n",
    "        rand(mas[z - 1], mas[z], int(b))\n",
    "        while x < int(b):\n",
    "            itog [x] [z - 1] = kolvo[x + (z - 1) * int(b)]\n",
    "            x += 1\n",
    "        z += 1\n",
    "        x = 0\n",
    "    return (itog)\n",
    "print (varrand ('QQQ', 7))"
   ]
  },
  {
   "cell_type": "code",
   "execution_count": null,
   "metadata": {
    "collapsed": true
   },
   "outputs": [],
   "source": []
  }
 ],
 "metadata": {
  "kernelspec": {
   "display_name": "Python 3",
   "language": "python",
   "name": "python3"
  },
  "language_info": {
   "codemirror_mode": {
    "name": "ipython",
    "version": 3
   },
   "file_extension": ".py",
   "mimetype": "text/x-python",
   "name": "python",
   "nbconvert_exporter": "python",
   "pygments_lexer": "ipython3",
   "version": "3.6.1"
  }
 },
 "nbformat": 4,
 "nbformat_minor": 2
}
