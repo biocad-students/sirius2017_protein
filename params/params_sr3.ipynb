{
 "cells": [
  {
   "cell_type": "code",
   "execution_count": 1,
   "metadata": {
    "scrolled": true
   },
   "outputs": [
    {
     "data": {
      "text/plain": [
       "[[['118', '-180', '-119'], ['103', '178', '-84']],\n",
       " [['106', '178', '-84'], ['107', '177', '-88']],\n",
       " [['101', '173', '-79'], ['122', '176', '-81']],\n",
       " [['108', '-177', '-91'], ['106', '179', '-88']],\n",
       " [['118', '-180', '-119'], ['102', '177', '-83']],\n",
       " [['130', '173', '-146'], ['115', '178', '-93']],\n",
       " [['133', '173', '-120'], ['103', '175', '-79']]]"
      ]
     },
     "execution_count": 1,
     "metadata": {},
     "output_type": "execute_result"
    }
   ],
   "source": [
    "#Случайные углы\n",
    "from os import listdir\n",
    "from Bio.SeqUtils import *\n",
    "from Bio.PDB import *\n",
    "from math import *\n",
    "import numpy as np\n",
    "import random\n",
    "kolvo = []\n",
    "def varrand(mas, b):\n",
    "    def rand(am1, am2, j):\n",
    "        Pam = (am1 + ' ' + am2)\n",
    "        f = open('text.txt')\n",
    "        q = 0\n",
    "        arr = []\n",
    "        for line in f:\n",
    "            string = line\n",
    "            if line.find(Pam) != -1:\n",
    "                arr.append(string)\n",
    "                q += 1\n",
    "        p = 1\n",
    "        while p <= int(j):\n",
    "            r = random.randint(0, q - 1)\n",
    "            g = arr[r].split()\n",
    "            an = []\n",
    "            an.append(g[2])\n",
    "            an.append(g[4])\n",
    "            an.append(g[3])\n",
    "            kolvo.append(an)\n",
    "            p += 1\n",
    "        f.close()\n",
    "    z = 1\n",
    "    x = 0\n",
    "    itog = [[[1, 2, 3]] * (len(mas) - 1) for o in range(int(b))]\n",
    "    while z < len(mas):\n",
    "        rand(mas[z - 1], mas[z], int(b))\n",
    "        while x < int(b):\n",
    "            itog [x] [z - 1] = kolvo[x + (z - 1) * int(b)]\n",
    "            x += 1\n",
    "        z += 1\n",
    "        x = 0\n",
    "    return (itog)\n",
    "varrand ('QQQ', 7)"
   ]
  },
  {
   "cell_type": "code",
   "execution_count": null,
   "metadata": {
    "collapsed": true
   },
   "outputs": [],
   "source": []
  }
 ],
 "metadata": {
  "kernelspec": {
   "display_name": "Python 3",
   "language": "python",
   "name": "python3"
  },
  "language_info": {
   "codemirror_mode": {
    "name": "ipython",
    "version": 3
   },
   "file_extension": ".py",
   "mimetype": "text/x-python",
   "name": "python",
   "nbconvert_exporter": "python",
   "pygments_lexer": "ipython3",
   "version": "3.6.1"
  }
 },
 "nbformat": 4,
 "nbformat_minor": 2
}
