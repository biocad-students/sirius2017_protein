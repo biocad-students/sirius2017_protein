{
 "cells": [
  {
   "cell_type": "code",
   "execution_count": 5,
   "metadata": {
    "scrolled": true
   },
   "outputs": [
    {
     "data": {
      "text/plain": [
       "[[['109', '178', '-89'], ['119', '170', '-119']],\n",
       " [['102', '178', '-84'], ['98', '-177', '-83']],\n",
       " [['99', '179', '-84'], ['102', '175', '-80']],\n",
       " [['98', '-180', '-85'], ['108', '177', '-84']],\n",
       " [['122', '178', '-123'], ['99', '-178', '-104']],\n",
       " [['105', '179', '-88'], ['108', '-180', '-87']],\n",
       " [['102', '177', '-81'], ['119', '-179', '-88']]]"
      ]
     },
     "execution_count": 5,
     "metadata": {},
     "output_type": "execute_result"
    }
   ],
   "source": [
    "#Случайные углы\n",
    "from os import listdir\n",
    "from Bio.SeqUtils import *\n",
    "from Bio.PDB import *\n",
    "from math import *\n",
    "import numpy as np\n",
    "import random\n",
    "kolvo = []\n",
    "def varrand(mas, b):\n",
    "    def rand(am1, am2, j):\n",
    "        Pam = (am1 + ' ' + am2)\n",
    "        f = open('text.txt')\n",
    "        q = 0\n",
    "        arr = []\n",
    "        for line in f:\n",
    "            string = line\n",
    "            if line.find(Pam) != -1:\n",
    "                arr.append(string)\n",
    "                q += 1\n",
    "        p = 1\n",
    "        while p <= int(j):\n",
    "            r = random.randint(0, q - 1)\n",
    "            g = arr[r].split()\n",
    "            an = []\n",
    "            an.append(g[2])\n",
    "            an.append(g[4])\n",
    "            an.append(g[3])\n",
    "            kolvo.append(an)\n",
    "            p += 1\n",
    "        f.close()\n",
    "    z = 1\n",
    "    x = 0\n",
    "    itog = [[[1, 2, 3]] * (len(mas) - 1) for o in range(int(b))]\n",
    "    while z < len(mas):\n",
    "        rand(mas[z - 1], mas[z], int(b))\n",
    "        while x < int(b):\n",
    "            itog [x] [z - 1] = kolvo[x + (z - 1) * int(b)]\n",
    "            x += 1\n",
    "        z += 1\n",
    "        x = 0\n",
    "    return (itog)\n",
    "varrand ('QQQ', 7)"
   ]
  },
  {
   "cell_type": "code",
   "execution_count": null,
   "metadata": {
    "collapsed": true
   },
   "outputs": [],
   "source": []
  }
 ],
 "metadata": {
  "kernelspec": {
   "display_name": "Python 3",
   "language": "python",
   "name": "python3"
  },
  "language_info": {
   "codemirror_mode": {
    "name": "ipython",
    "version": 3
   },
   "file_extension": ".py",
   "mimetype": "text/x-python",
   "name": "python",
   "nbconvert_exporter": "python",
   "pygments_lexer": "ipython3",
   "version": "3.6.1"
  }
 },
 "nbformat": 4,
 "nbformat_minor": 2
}
