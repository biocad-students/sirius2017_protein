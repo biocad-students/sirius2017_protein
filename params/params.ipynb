{
 "cells": [
  {
   "cell_type": "code",
   "execution_count": 40,
   "metadata": {},
   "outputs": [],
   "source": [
    "from Bio.PDB import *\n",
    "from math import *\n",
    "from numpy import *\n",
    "parser = PDBParser()\n",
    "structure = parser.get_structure('a', '15477.pdb')\n",
    "def angless (name):\n",
    "    s = len(list(name.get_residues()))\n",
    "    f = open('text.txt', 'w')\n",
    "    a = 2\n",
    "    while a < s - 1  :\n",
    "        atom1=name[0]['H'][a]['N']\n",
    "        atom2=name[0]['H'][a]['CA']\n",
    "        atom3=name[0]['H'][a]['C']\n",
    "        atom4=name[0]['H'][a+1]['N']\n",
    "        vector1 = atom1.get_vector()\n",
    "        vector2 = atom2.get_vector()\n",
    "        vector3 = atom3.get_vector()\n",
    "        vector4 = atom4.get_vector()\n",
    "        atom5=name[0]['H'][a]['C']\n",
    "        atom6=name[0]['H'][a+1]['N']\n",
    "        atom7=name[0]['H'][a+1]['CA']\n",
    "        atom8=name[0]['H'][a+1]['C']\n",
    "        vector5 = atom5.get_vector()\n",
    "        vector6 = atom6.get_vector()\n",
    "        vector7 = atom7.get_vector()\n",
    "        vector8 = atom8.get_vector()\n",
    "        atom9=name[0]['H'][a]['CA']\n",
    "        atom10=name[0]['H'][a]['C']\n",
    "        atom11=name[0]['H'][a+1]['N']\n",
    "        atom12=name[0]['H'][a+1]['CA']\n",
    "        vector9 = atom9.get_vector()\n",
    "        vector10 = atom10.get_vector()\n",
    "        vector11 = atom11.get_vector()\n",
    "        vector12 = atom12.get_vector()\n",
    "        res1 = name[0]['H'][a]\n",
    "        res2 = name[0]['H'][a+1]\n",
    "        a += 1\n",
    "        angle1 = calc_dihedral(vector1, vector2, vector3, vector4)\n",
    "        angle2 = calc_dihedral(vector5, vector6, vector7, vector8)\n",
    "        angle3 = calc_dihedral(vector9, vector10, vector11, vector12)\n",
    "        f.write(str(res1.get_resname()) + ' ' +  str(res2.get_resname()) + ' ' + str(math.floor(math.degrees(angle1)))+ ' ' + str(math.floor(math.degrees(angle2))) + ' '+ str(math.floor(math.degrees(angle3)))+'\\n')\n",
    "angless (structure)\n",
    "f.close()"
   ]
  },
  {
   "cell_type": "code",
   "execution_count": null,
   "metadata": {
    "collapsed": true
   },
   "outputs": [],
   "source": []
  }
 ],
 "metadata": {
  "kernelspec": {
   "display_name": "Python 3",
   "language": "python",
   "name": "python3"
  },
  "language_info": {
   "codemirror_mode": {
    "name": "ipython",
    "version": 3
   },
   "file_extension": ".py",
   "mimetype": "text/x-python",
   "name": "python",
   "nbconvert_exporter": "python",
   "pygments_lexer": "ipython3",
   "version": "3.6.1"
  }
 },
 "nbformat": 4,
 "nbformat_minor": 2
}
