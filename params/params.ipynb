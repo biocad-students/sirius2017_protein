{
 "cells": [
  {
   "cell_type": "code",
   "execution_count": 67,
   "metadata": {},
   "outputs": [],
   "source": [
    "from Bio.PDB import *\n",
    "from math import *\n",
    "from numpy import *\n",
    "parser = PDBParser()\n",
    "structure = parser.get_structure('a', '15477.pdb')\n",
    "s = len(list(structure.get_residues()))\n",
    "f = open('text.txt', 'w')\n",
    "a = 2\n",
    "f.write('CA-C' + '\\n')\n",
    "while a < s  :\n",
    "    atom1=structure[0]['H'][a]['N']\n",
    "    atom2=structure[0]['H'][a]['CA']\n",
    "    atom3=structure[0]['H'][a]['C']\n",
    "    atom4=structure[0]['H'][a+1]['N']\n",
    "    vector1 = atom1.get_vector()\n",
    "    vector2 = atom2.get_vector()\n",
    "    vector3 = atom3.get_vector()\n",
    "    vector4 = atom4.get_vector()\n",
    "    a += 1\n",
    "    angle = calc_dihedral(vector1, vector2, vector3, vector4)\n",
    "    f.write(str(angle)+'\\n')\n",
    "f.write('N-CA' + '\\n')\n",
    "a = 2\n",
    "while a < s  :\n",
    "    atom1=structure[0]['H'][a-1]['C']\n",
    "    atom2=structure[0]['H'][a]['N']\n",
    "    atom3=structure[0]['H'][a]['CA']\n",
    "    atom4=structure[0]['H'][a]['C']\n",
    "    vector1 = atom1.get_vector()\n",
    "    vector2 = atom2.get_vector()\n",
    "    vector3 = atom3.get_vector()\n",
    "    vector4 = atom4.get_vector()\n",
    "    a += 1\n",
    "    angle = calc_dihedral(vector1, vector2, vector3, vector4)\n",
    "    f.write(str(angle)+'\\n')\n",
    "f.close()\n",
    "f = open('text2.txt', 'w')\n",
    "a = 3\n",
    "f.write('C-N' + '\\n')\n",
    "while a < s  :\n",
    "    atom1=structure[0]['H'][a-1]['CA']\n",
    "    atom2=structure[0]['H'][a-1]['C']\n",
    "    atom3=structure[0]['H'][a]['N']\n",
    "    atom4=structure[0]['H'][a]['CA']\n",
    "    vector1 = atom1.get_vector()\n",
    "    vector2 = atom2.get_vector()\n",
    "    vector3 = atom3.get_vector()\n",
    "    vector4 = atom4.get_vector()\n",
    "    a += 1\n",
    "    angle = calc_dihedral(vector1, vector2, vector3, vector4)\n",
    "    f.write(str(angle)+'\\n')\n",
    "f.close()\n"
   ]
  },
  {
   "cell_type": "code",
   "execution_count": null,
   "metadata": {
    "collapsed": true
   },
   "outputs": [],
   "source": []
  }
 ],
 "metadata": {
  "kernelspec": {
   "display_name": "Python 3",
   "language": "python",
   "name": "python3"
  },
  "language_info": {
   "codemirror_mode": {
    "name": "ipython",
    "version": 3
   },
   "file_extension": ".py",
   "mimetype": "text/x-python",
   "name": "python",
   "nbconvert_exporter": "python",
   "pygments_lexer": "ipython3",
   "version": "3.6.1"
  }
 },
 "nbformat": 4,
 "nbformat_minor": 2
}
